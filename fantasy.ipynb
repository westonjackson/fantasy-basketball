{
 "cells": [
  {
   "cell_type": "code",
   "execution_count": 1,
   "metadata": {
    "collapsed": false
   },
   "outputs": [],
   "source": [
    "import pandas as pd\n",
    "\n",
    "# download and data cleaning\n",
    "df = pd.read_csv('~/Desktop/hashtag_basketball_current.csv')\n",
    "df = df[df['R#'] != 'R#']\n",
    "df[['FGP', 'FGM', 'FGA']] = df['FG%'].str.replace(' ', '').str.split('[ \\(/\\)]', expand=True)[[0, 1, 2]]\n",
    "df[['FTP', 'FTM', 'FTA']] = df['FT%'].str.replace(' ', '').str.split('[ \\(/\\)]', expand=True)[[0, 1, 2]]\n",
    "df = df.drop(['FG%', 'FT%'], axis=1).rename(columns={'FGP': 'FG%', 'FTP': 'FT%', 'TREB': 'REB', 'TO': 'TOV', 'PLAYER': 'Name'})\n",
    "df.Name = df.Name.str.strip().str.replace('[^\\x00-\\x7F]+', '')"
   ]
  },
  {
   "cell_type": "code",
   "execution_count": 2,
   "metadata": {
    "collapsed": false
   },
   "outputs": [],
   "source": [
    "# calculate auxiliary position and z-score columns\n",
    "for pos in ['PG', 'PF', 'SG', 'SF', 'C', 'G', 'F']:\n",
    "    df[pos] = df.POS.str.contains(pos).astype(int)\n",
    "for col in ['3PM', 'REB', 'AST', 'STL', 'BLK', 'TOV', 'PTS', 'FGM', 'FGA', 'FTM', 'FTA']:\n",
    "    df[col] = df[col].astype(float)\n",
    "df['TOV'] = -1.0 * df['TOV']\n",
    "\n",
    "# difference between shots made assuming league average and actual shots made\n",
    "avg_fg = df['FGM'].mean() / df['FGA'].mean()\n",
    "avg_ft = df['FTM'].mean() / df['FTA'].mean()\n",
    "df['FGC'] = df['FGM'] - df['FGA'] * avg_fg\n",
    "df['FTC'] = df['FTM'] - df['FTA'] * avg_ft\n",
    "\n",
    "# get z-scores\n",
    "for col in ['3PM', 'REB', 'AST', 'STL', 'BLK', 'TOV', 'PTS', 'FGC', 'FTC']:\n",
    "    df[col + 'z'] = (df[col] - df[col].mean()) / df[col].std()\n",
    "    "
   ]
  },
  {
   "cell_type": "code",
   "execution_count": 3,
   "metadata": {
    "collapsed": false
   },
   "outputs": [],
   "source": [
    "players = [\n",
    "    'Collin Sexton',\n",
    "    'Jordan Clarkson',\n",
    "    'LaMelo Ball',\n",
    "    'Harrison Barnes',\n",
    "    'Robert Covington',\n",
    "    'OG Anunoby',\n",
    "    'Rudy Gobert', \n",
    "    'Deandre Ayton', \n",
    "    'Hassan Whiteside', \n",
    "    'Mitchell Robinson', \n",
    "    'Will Barton', \n",
    "    'Derrick Rose',\n",
    "    'Moritz Wagner'\n",
    "]\n",
    "CATS = ['REBz', 'STLz', 'BLKz', 'TOVz', 'FGCz', 'PTSz', 'ASTz', 'FTCz', '3PMz']"
   ]
  },
  {
   "cell_type": "code",
   "execution_count": 4,
   "metadata": {
    "collapsed": false
   },
   "outputs": [
    {
     "data": {
      "text/plain": [
       "<matplotlib.collections.PathCollection at 0x119392250>"
      ]
     },
     "execution_count": 4,
     "metadata": {},
     "output_type": "execute_result"
    },
    {
     "data": {
      "image/png": "[encoded data removed]",
      "text/plain": [
       "<matplotlib.figure.Figure at 0x119392c50>"
      ]
     },
     "metadata": {},
     "output_type": "display_data"
    }
   ],
   "source": [
    "# do PCA to visualize z-scores\n",
    "from sklearn.decomposition import PCA\n",
    "X = df[CATS].values\n",
    "\n",
    "pca = PCA(n_components=2)\n",
    "pca.fit(X)\n",
    "X_new = pca.transform(X)\n",
    "\n",
    "%matplotlib inline\n",
    "import matplotlib.pyplot as plt\n",
    "plt.scatter(X_new[:, 0], X_new[:, 1], s=(1 + 20*(df.Name.isin(players)).astype(int)))"
   ]
  },
  {
   "cell_type": "code",
   "execution_count": 5,
   "metadata": {
    "collapsed": false
   },
   "outputs": [
    {
     "name": "stdout",
     "output_type": "stream",
     "text": [
      "REBz: [ 5.58108321]\n",
      "STLz: [ 3.83756153]\n",
      "BLKz: [ 4.06343377]\n",
      "TOVz: [ 2.10641255]\n",
      "FGCz: [ 2.52672143]\n",
      "PTSz: [-1.57697192]\n",
      "ASTz: [-3.75103353]\n",
      "FTCz: [-6.32864493]\n",
      "3PMz: [-3.00106357]\n",
      "5th Best=2.10641255026\n",
      "TOP 10 Players\n"
     ]
    },
    {
     "data": {
      "text/html": [
       "<div>\n",
       "<table border=\"1\" class=\"dataframe\">\n",
       "  <thead>\n",
       "    <tr style=\"text-align: right;\">\n",
       "      <th></th>\n",
       "      <th>Name</th>\n",
       "      <th>REBz</th>\n",
       "      <th>STLz</th>\n",
       "      <th>BLKz</th>\n",
       "      <th>TOVz</th>\n",
       "      <th>FGCz</th>\n",
       "      <th>PTSz</th>\n",
       "      <th>ASTz</th>\n",
       "      <th>FTCz</th>\n",
       "      <th>3PMz</th>\n",
       "    </tr>\n",
       "  </thead>\n",
       "  <tbody>\n",
       "    <tr>\n",
       "      <th>40</th>\n",
       "      <td>Collin Sexton</td>\n",
       "      <td>-1.275759</td>\n",
       "      <td>0.939924</td>\n",
       "      <td>-0.578731</td>\n",
       "      <td>-0.327607</td>\n",
       "      <td>1.502348</td>\n",
       "      <td>1.708561</td>\n",
       "      <td>0.099245</td>\n",
       "      <td>0.299997</td>\n",
       "      <td>0.365709</td>\n",
       "    </tr>\n",
       "    <tr>\n",
       "      <th>60</th>\n",
       "      <td>Mitchell Robinson</td>\n",
       "      <td>1.050500</td>\n",
       "      <td>1.162392</td>\n",
       "      <td>2.235768</td>\n",
       "      <td>1.018013</td>\n",
       "      <td>1.540730</td>\n",
       "      <td>-0.950615</td>\n",
       "      <td>-1.282351</td>\n",
       "      <td>-1.265370</td>\n",
       "      <td>-1.592571</td>\n",
       "    </tr>\n",
       "    <tr>\n",
       "      <th>61</th>\n",
       "      <td>Jordan Clarkson</td>\n",
       "      <td>-0.306485</td>\n",
       "      <td>0.050055</td>\n",
       "      <td>-0.578731</td>\n",
       "      <td>-0.224097</td>\n",
       "      <td>0.487512</td>\n",
       "      <td>0.483728</td>\n",
       "      <td>-0.683660</td>\n",
       "      <td>0.626147</td>\n",
       "      <td>1.344849</td>\n",
       "    </tr>\n",
       "    <tr>\n",
       "      <th>72</th>\n",
       "      <td>OG Anunoby</td>\n",
       "      <td>-0.035088</td>\n",
       "      <td>2.497196</td>\n",
       "      <td>-0.051013</td>\n",
       "      <td>0.086430</td>\n",
       "      <td>-0.198747</td>\n",
       "      <td>-0.225385</td>\n",
       "      <td>-0.729713</td>\n",
       "      <td>-0.482687</td>\n",
       "      <td>0.365709</td>\n",
       "    </tr>\n",
       "    <tr>\n",
       "      <th>75</th>\n",
       "      <td>Rudy Gobert</td>\n",
       "      <td>3.144133</td>\n",
       "      <td>-1.062282</td>\n",
       "      <td>3.643018</td>\n",
       "      <td>-0.017079</td>\n",
       "      <td>1.270078</td>\n",
       "      <td>-0.370431</td>\n",
       "      <td>-0.867873</td>\n",
       "      <td>-3.970595</td>\n",
       "      <td>-1.592571</td>\n",
       "    </tr>\n",
       "    <tr>\n",
       "      <th>80</th>\n",
       "      <td>LaMelo Ball</td>\n",
       "      <td>0.585248</td>\n",
       "      <td>1.162392</td>\n",
       "      <td>-0.402825</td>\n",
       "      <td>-0.327607</td>\n",
       "      <td>-1.053790</td>\n",
       "      <td>-0.402664</td>\n",
       "      <td>1.296628</td>\n",
       "      <td>-0.453328</td>\n",
       "      <td>-0.025947</td>\n",
       "    </tr>\n",
       "    <tr>\n",
       "      <th>85</th>\n",
       "      <td>Harrison Barnes</td>\n",
       "      <td>0.391393</td>\n",
       "      <td>-0.617347</td>\n",
       "      <td>-0.754638</td>\n",
       "      <td>0.293449</td>\n",
       "      <td>0.275928</td>\n",
       "      <td>0.306450</td>\n",
       "      <td>-0.038915</td>\n",
       "      <td>0.404354</td>\n",
       "      <td>-0.221775</td>\n",
       "    </tr>\n",
       "    <tr>\n",
       "      <th>92</th>\n",
       "      <td>Deandre Ayton</td>\n",
       "      <td>2.252400</td>\n",
       "      <td>-1.507216</td>\n",
       "      <td>0.652612</td>\n",
       "      <td>0.086430</td>\n",
       "      <td>1.321012</td>\n",
       "      <td>-0.322083</td>\n",
       "      <td>-0.683660</td>\n",
       "      <td>-0.795760</td>\n",
       "      <td>-1.494657</td>\n",
       "    </tr>\n",
       "    <tr>\n",
       "      <th>150</th>\n",
       "      <td>Will Barton</td>\n",
       "      <td>-0.422798</td>\n",
       "      <td>0.272522</td>\n",
       "      <td>0.124893</td>\n",
       "      <td>0.914504</td>\n",
       "      <td>-0.936797</td>\n",
       "      <td>-0.515477</td>\n",
       "      <td>-0.177075</td>\n",
       "      <td>-0.754991</td>\n",
       "      <td>-0.123861</td>\n",
       "    </tr>\n",
       "    <tr>\n",
       "      <th>178</th>\n",
       "      <td>Robert Covington</td>\n",
       "      <td>0.197538</td>\n",
       "      <td>0.939924</td>\n",
       "      <td>-0.226919</td>\n",
       "      <td>0.603976</td>\n",
       "      <td>-1.681552</td>\n",
       "      <td>-1.289056</td>\n",
       "      <td>-0.683660</td>\n",
       "      <td>0.063589</td>\n",
       "      <td>-0.025947</td>\n",
       "    </tr>\n",
       "  </tbody>\n",
       "</table>\n",
       "</div>"
      ],
      "text/plain": [
       "                  Name      REBz      STLz      BLKz      TOVz      FGCz  \\\n",
       "40       Collin Sexton -1.275759  0.939924 -0.578731 -0.327607  1.502348   \n",
       "60   Mitchell Robinson  1.050500  1.162392  2.235768  1.018013  1.540730   \n",
       "61     Jordan Clarkson -0.306485  0.050055 -0.578731 -0.224097  0.487512   \n",
       "72          OG Anunoby -0.035088  2.497196 -0.051013  0.086430 -0.198747   \n",
       "75         Rudy Gobert  3.144133 -1.062282  3.643018 -0.017079  1.270078   \n",
       "80         LaMelo Ball  0.585248  1.162392 -0.402825 -0.327607 -1.053790   \n",
       "85     Harrison Barnes  0.391393 -0.617347 -0.754638  0.293449  0.275928   \n",
       "92       Deandre Ayton  2.252400 -1.507216  0.652612  0.086430  1.321012   \n",
       "150        Will Barton -0.422798  0.272522  0.124893  0.914504 -0.936797   \n",
       "178   Robert Covington  0.197538  0.939924 -0.226919  0.603976 -1.681552   \n",
       "\n",
       "         PTSz      ASTz      FTCz      3PMz  \n",
       "40   1.708561  0.099245  0.299997  0.365709  \n",
       "60  -0.950615 -1.282351 -1.265370 -1.592571  \n",
       "61   0.483728 -0.683660  0.626147  1.344849  \n",
       "72  -0.225385 -0.729713 -0.482687  0.365709  \n",
       "75  -0.370431 -0.867873 -3.970595 -1.592571  \n",
       "80  -0.402664  1.296628 -0.453328 -0.025947  \n",
       "85   0.306450 -0.038915  0.404354 -0.221775  \n",
       "92  -0.322083 -0.683660 -0.795760 -1.494657  \n",
       "150 -0.515477 -0.177075 -0.754991 -0.123861  \n",
       "178 -1.289056 -0.683660  0.063589 -0.025947  "
      ]
     },
     "execution_count": 5,
     "metadata": {},
     "output_type": "execute_result"
    }
   ],
   "source": [
    "import numpy as np\n",
    "import itertools\n",
    "\n",
    "# solve integer-programming w/constraints\n",
    "# maximize 5th best cat by z-score subject to:\n",
    "# 1. 10 players max\n",
    "# 2. At least 1 PG, SG, SF, PF, C\n",
    "# 3. At least 2 C\n",
    "# 4. At least 3 G, F\n",
    "\n",
    "df['AVGz'] = df[CATS].mean(axis=1)\n",
    "A = df.loc[df.Name.isin(players), CATS].T.values\n",
    "P = df.loc[df.Name.isin(players), ['PG', 'PF', 'SG', 'SF', 'C', 'G', 'F']].T.values\n",
    "max_combo, max_combo_val, max_combo_vec = 0, 0, 0\n",
    "\n",
    "for combo in itertools.combinations(range(A.shape[1]), 10):\n",
    "    x = np.zeros((A.shape[1], 1))\n",
    "    x[combo, 0] = 1\n",
    "    \n",
    "    if not np.dot(P[0], x) >= 1:\n",
    "        continue\n",
    "    if not np.dot(P[1], x) >= 1:\n",
    "        continue\n",
    "    if not np.dot(P[2], x) >= 1:\n",
    "        continue\n",
    "    if not np.dot(P[3], x) >= 1:\n",
    "        continue\n",
    "    if not np.dot(P[4], x) >= 2:\n",
    "        continue\n",
    "    if not np.dot(P[5], x) >= 3:\n",
    "        continue\n",
    "    if not np.dot(P[6], x) >= 3:\n",
    "        continue\n",
    "\n",
    "    \n",
    "    val = sorted(np.dot(A, x), reverse=True)[4][0]\n",
    "    if val > max_combo_val:\n",
    "        max_combo_val = val\n",
    "        max_combo_vec = np.dot(A, x)\n",
    "        max_combo = combo\n",
    "        \n",
    "for idx, cat in enumerate(CATS):\n",
    "    print(\"{}: {}\".format(cat, max_combo_vec[idx]))\n",
    "print(\"5th Best={}\".format(max_combo_val))\n",
    "print(\"TOP 10 Players\")\n",
    "df.loc[df.Name.isin(players), ['Name'] + CATS].iloc[list(max_combo)]"
   ]
  },
  {
   "cell_type": "code",
   "execution_count": null,
   "metadata": {
    "collapsed": true
   },
   "outputs": [],
   "source": []
  },
  {
   "cell_type": "code",
   "execution_count": null,
   "metadata": {
    "collapsed": true
   },
   "outputs": [],
   "source": []
  },
  {
   "cell_type": "code",
   "execution_count": null,
   "metadata": {
    "collapsed": true
   },
   "outputs": [],
   "source": []
  },
  {
   "cell_type": "code",
   "execution_count": null,
   "metadata": {
    "collapsed": true
   },
   "outputs": [],
   "source": []
  }
 ],
 "metadata": {
  "anaconda-cloud": {},
  "kernelspec": {
   "display_name": "Python [Root]",
   "language": "python",
   "name": "Python [Root]"
  },
  "language_info": {
   "codemirror_mode": {
    "name": "ipython",
    "version": 2
   },
   "file_extension": ".py",
   "mimetype": "text/x-python",
   "name": "python",
   "nbconvert_exporter": "python",
   "pygments_lexer": "ipython2",
   "version": "2.7.12"
  }
 },
 "nbformat": 4,
 "nbformat_minor": 0
}
